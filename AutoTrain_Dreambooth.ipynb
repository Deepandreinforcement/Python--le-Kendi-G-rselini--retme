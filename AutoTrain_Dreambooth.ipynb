{
  "nbformat": 4,
  "nbformat_minor": 0,
  "metadata": {
    "colab": {
      "provenance": [],
      "gpuType": "T4",
      "authorship_tag": "ABX9TyNw4YDmBxu3LVYDv9TKw/Cf",
      "include_colab_link": true
    },
    "kernelspec": {
      "name": "python3",
      "display_name": "Python 3"
    },
    "language_info": {
      "name": "python"
    },
    "accelerator": "GPU",
    "widgets": {
      "application/vnd.jupyter.widget-state+json": {
        "8b18d638b96e4c0db421ae9e98fb634b": {
          "model_module": "@jupyter-widgets/controls",
          "model_name": "HBoxModel",
          "model_module_version": "1.5.0",
          "state": {
            "_dom_classes": [],
            "_model_module": "@jupyter-widgets/controls",
            "_model_module_version": "1.5.0",
            "_model_name": "HBoxModel",
            "_view_count": null,
            "_view_module": "@jupyter-widgets/controls",
            "_view_module_version": "1.5.0",
            "_view_name": "HBoxView",
            "box_style": "",
            "children": [
              "IPY_MODEL_d3acbfc2c51844999b3a42a1680d8cf4",
              "IPY_MODEL_14676ccf9a7a4dcfb9c6a93e04ab1795",
              "IPY_MODEL_41e4ae3e302c45f7aef83b21404b482f"
            ],
            "layout": "IPY_MODEL_ce13970499fe4ef887f0c1d0ecbdf895"
          }
        },
        "d3acbfc2c51844999b3a42a1680d8cf4": {
          "model_module": "@jupyter-widgets/controls",
          "model_name": "HTMLModel",
          "model_module_version": "1.5.0",
          "state": {
            "_dom_classes": [],
            "_model_module": "@jupyter-widgets/controls",
            "_model_module_version": "1.5.0",
            "_model_name": "HTMLModel",
            "_view_count": null,
            "_view_module": "@jupyter-widgets/controls",
            "_view_module_version": "1.5.0",
            "_view_name": "HTMLView",
            "description": "",
            "description_tooltip": null,
            "layout": "IPY_MODEL_b5efb0a7aa3b461aa26c11534206ca82",
            "placeholder": "​",
            "style": "IPY_MODEL_c5c104ddb68c44feae9830b30e8c0fac",
            "value": "100%"
          }
        },
        "14676ccf9a7a4dcfb9c6a93e04ab1795": {
          "model_module": "@jupyter-widgets/controls",
          "model_name": "FloatProgressModel",
          "model_module_version": "1.5.0",
          "state": {
            "_dom_classes": [],
            "_model_module": "@jupyter-widgets/controls",
            "_model_module_version": "1.5.0",
            "_model_name": "FloatProgressModel",
            "_view_count": null,
            "_view_module": "@jupyter-widgets/controls",
            "_view_module_version": "1.5.0",
            "_view_name": "ProgressView",
            "bar_style": "success",
            "description": "",
            "description_tooltip": null,
            "layout": "IPY_MODEL_ed2e921107ac4937ad73e79f404e4c4a",
            "max": 50,
            "min": 0,
            "orientation": "horizontal",
            "style": "IPY_MODEL_56b34e7deffa48728324971066fa7862",
            "value": 50
          }
        },
        "41e4ae3e302c45f7aef83b21404b482f": {
          "model_module": "@jupyter-widgets/controls",
          "model_name": "HTMLModel",
          "model_module_version": "1.5.0",
          "state": {
            "_dom_classes": [],
            "_model_module": "@jupyter-widgets/controls",
            "_model_module_version": "1.5.0",
            "_model_name": "HTMLModel",
            "_view_count": null,
            "_view_module": "@jupyter-widgets/controls",
            "_view_module_version": "1.5.0",
            "_view_name": "HTMLView",
            "description": "",
            "description_tooltip": null,
            "layout": "IPY_MODEL_bdf883031f264ce8bfd190a49c8e875f",
            "placeholder": "​",
            "style": "IPY_MODEL_76e3bd0063784d10a83c0cde483069bf",
            "value": " 50/50 [00:43&lt;00:00,  1.16it/s]"
          }
        },
        "ce13970499fe4ef887f0c1d0ecbdf895": {
          "model_module": "@jupyter-widgets/base",
          "model_name": "LayoutModel",
          "model_module_version": "1.2.0",
          "state": {
            "_model_module": "@jupyter-widgets/base",
            "_model_module_version": "1.2.0",
            "_model_name": "LayoutModel",
            "_view_count": null,
            "_view_module": "@jupyter-widgets/base",
            "_view_module_version": "1.2.0",
            "_view_name": "LayoutView",
            "align_content": null,
            "align_items": null,
            "align_self": null,
            "border": null,
            "bottom": null,
            "display": null,
            "flex": null,
            "flex_flow": null,
            "grid_area": null,
            "grid_auto_columns": null,
            "grid_auto_flow": null,
            "grid_auto_rows": null,
            "grid_column": null,
            "grid_gap": null,
            "grid_row": null,
            "grid_template_areas": null,
            "grid_template_columns": null,
            "grid_template_rows": null,
            "height": null,
            "justify_content": null,
            "justify_items": null,
            "left": null,
            "margin": null,
            "max_height": null,
            "max_width": null,
            "min_height": null,
            "min_width": null,
            "object_fit": null,
            "object_position": null,
            "order": null,
            "overflow": null,
            "overflow_x": null,
            "overflow_y": null,
            "padding": null,
            "right": null,
            "top": null,
            "visibility": null,
            "width": null
          }
        },
        "b5efb0a7aa3b461aa26c11534206ca82": {
          "model_module": "@jupyter-widgets/base",
          "model_name": "LayoutModel",
          "model_module_version": "1.2.0",
          "state": {
            "_model_module": "@jupyter-widgets/base",
            "_model_module_version": "1.2.0",
            "_model_name": "LayoutModel",
            "_view_count": null,
            "_view_module": "@jupyter-widgets/base",
            "_view_module_version": "1.2.0",
            "_view_name": "LayoutView",
            "align_content": null,
            "align_items": null,
            "align_self": null,
            "border": null,
            "bottom": null,
            "display": null,
            "flex": null,
            "flex_flow": null,
            "grid_area": null,
            "grid_auto_columns": null,
            "grid_auto_flow": null,
            "grid_auto_rows": null,
            "grid_column": null,
            "grid_gap": null,
            "grid_row": null,
            "grid_template_areas": null,
            "grid_template_columns": null,
            "grid_template_rows": null,
            "height": null,
            "justify_content": null,
            "justify_items": null,
            "left": null,
            "margin": null,
            "max_height": null,
            "max_width": null,
            "min_height": null,
            "min_width": null,
            "object_fit": null,
            "object_position": null,
            "order": null,
            "overflow": null,
            "overflow_x": null,
            "overflow_y": null,
            "padding": null,
            "right": null,
            "top": null,
            "visibility": null,
            "width": null
          }
        },
        "c5c104ddb68c44feae9830b30e8c0fac": {
          "model_module": "@jupyter-widgets/controls",
          "model_name": "DescriptionStyleModel",
          "model_module_version": "1.5.0",
          "state": {
            "_model_module": "@jupyter-widgets/controls",
            "_model_module_version": "1.5.0",
            "_model_name": "DescriptionStyleModel",
            "_view_count": null,
            "_view_module": "@jupyter-widgets/base",
            "_view_module_version": "1.2.0",
            "_view_name": "StyleView",
            "description_width": ""
          }
        },
        "ed2e921107ac4937ad73e79f404e4c4a": {
          "model_module": "@jupyter-widgets/base",
          "model_name": "LayoutModel",
          "model_module_version": "1.2.0",
          "state": {
            "_model_module": "@jupyter-widgets/base",
            "_model_module_version": "1.2.0",
            "_model_name": "LayoutModel",
            "_view_count": null,
            "_view_module": "@jupyter-widgets/base",
            "_view_module_version": "1.2.0",
            "_view_name": "LayoutView",
            "align_content": null,
            "align_items": null,
            "align_self": null,
            "border": null,
            "bottom": null,
            "display": null,
            "flex": null,
            "flex_flow": null,
            "grid_area": null,
            "grid_auto_columns": null,
            "grid_auto_flow": null,
            "grid_auto_rows": null,
            "grid_column": null,
            "grid_gap": null,
            "grid_row": null,
            "grid_template_areas": null,
            "grid_template_columns": null,
            "grid_template_rows": null,
            "height": null,
            "justify_content": null,
            "justify_items": null,
            "left": null,
            "margin": null,
            "max_height": null,
            "max_width": null,
            "min_height": null,
            "min_width": null,
            "object_fit": null,
            "object_position": null,
            "order": null,
            "overflow": null,
            "overflow_x": null,
            "overflow_y": null,
            "padding": null,
            "right": null,
            "top": null,
            "visibility": null,
            "width": null
          }
        },
        "56b34e7deffa48728324971066fa7862": {
          "model_module": "@jupyter-widgets/controls",
          "model_name": "ProgressStyleModel",
          "model_module_version": "1.5.0",
          "state": {
            "_model_module": "@jupyter-widgets/controls",
            "_model_module_version": "1.5.0",
            "_model_name": "ProgressStyleModel",
            "_view_count": null,
            "_view_module": "@jupyter-widgets/base",
            "_view_module_version": "1.2.0",
            "_view_name": "StyleView",
            "bar_color": null,
            "description_width": ""
          }
        },
        "bdf883031f264ce8bfd190a49c8e875f": {
          "model_module": "@jupyter-widgets/base",
          "model_name": "LayoutModel",
          "model_module_version": "1.2.0",
          "state": {
            "_model_module": "@jupyter-widgets/base",
            "_model_module_version": "1.2.0",
            "_model_name": "LayoutModel",
            "_view_count": null,
            "_view_module": "@jupyter-widgets/base",
            "_view_module_version": "1.2.0",
            "_view_name": "LayoutView",
            "align_content": null,
            "align_items": null,
            "align_self": null,
            "border": null,
            "bottom": null,
            "display": null,
            "flex": null,
            "flex_flow": null,
            "grid_area": null,
            "grid_auto_columns": null,
            "grid_auto_flow": null,
            "grid_auto_rows": null,
            "grid_column": null,
            "grid_gap": null,
            "grid_row": null,
            "grid_template_areas": null,
            "grid_template_columns": null,
            "grid_template_rows": null,
            "height": null,
            "justify_content": null,
            "justify_items": null,
            "left": null,
            "margin": null,
            "max_height": null,
            "max_width": null,
            "min_height": null,
            "min_width": null,
            "object_fit": null,
            "object_position": null,
            "order": null,
            "overflow": null,
            "overflow_x": null,
            "overflow_y": null,
            "padding": null,
            "right": null,
            "top": null,
            "visibility": null,
            "width": null
          }
        },
        "76e3bd0063784d10a83c0cde483069bf": {
          "model_module": "@jupyter-widgets/controls",
          "model_name": "DescriptionStyleModel",
          "model_module_version": "1.5.0",
          "state": {
            "_model_module": "@jupyter-widgets/controls",
            "_model_module_version": "1.5.0",
            "_model_name": "DescriptionStyleModel",
            "_view_count": null,
            "_view_module": "@jupyter-widgets/base",
            "_view_module_version": "1.2.0",
            "_view_name": "StyleView",
            "description_width": ""
          }
        }
      }
    }
  },
  "cells": [
    {
      "cell_type": "markdown",
      "metadata": {
        "id": "view-in-github",
        "colab_type": "text"
      },
      "source": [
        "<a href=\"https://colab.research.google.com/github/Deepandreinforcement/Python-Create-Own-Image/blob/main/AutoTrain_Dreambooth.ipynb\" target=\"_parent\"><img src=\"https://colab.research.google.com/assets/colab-badge.svg\" alt=\"Open In Colab\"/></a>"
      ]
    },
    {
      "cell_type": "markdown",
      "source": [
        "# Model Eğitme"
      ],
      "metadata": {
        "id": "HlVQne_kLVVt"
      }
    },
    {
      "cell_type": "markdown",
      "source": [
        "Burada ilk önce kendi resimlerimizi kullanarak bir eğitim işlemi yapacağız. Eğitim işlemi bittikten sonra bu oluşan ağırlıkları kullanarak kendi resimlerimizi oluşturabiliriz"
      ],
      "metadata": {
        "id": "6vZG1N17Lbs3"
      }
    },
    {
      "cell_type": "markdown",
      "source": [
        "Bu kod ile images adlı bir klasör oluşturuyoruz. Bu aşağıdaki kodu çalıştırdıktan sonra oluşan images klasörünü kendimize ait resimleri yüklüyoruz. Burada en az 10-15 adet yüzümüzün net çıktığı resimler olmalı."
      ],
      "metadata": {
        "id": "NALAW2odLbvz"
      }
    },
    {
      "cell_type": "code",
      "source": [
        "import os\n",
        "os.mkdir(\"images\")"
      ],
      "metadata": {
        "id": "6I0vT24fLl4P"
      },
      "execution_count": null,
      "outputs": []
    },
    {
      "cell_type": "markdown",
      "source": [
        "Burada eğitim işlemi için gerekli kurulumları yapıyoruz\n",
        "\n"
      ],
      "metadata": {
        "id": "smNueLawLbyd"
      }
    },
    {
      "cell_type": "code",
      "execution_count": null,
      "metadata": {
        "cellView": "form",
        "id": "-Ysbivc5LK4P"
      },
      "outputs": [],
      "source": [
        "#@title 🤗 AutoTrain DreamBooth\n",
        "#@markdown In order to use this colab\n",
        "#@markdown - upload images to a folder named `images/`\n",
        "#@markdown - choose a project name if you wish\n",
        "#@markdown - change model if you wish, you can also select sd2/2.1 or sd1.5\n",
        "#@markdown - update prompt and remember it. choose keywords that don't usually appear in dictionaries\n",
        "#@markdown - add huggingface information (token and repo_id) if you wish to push trained model to huggingface hub\n",
        "#@markdown - update hyperparameters if you wish\n",
        "#@markdown - click `Runtime > Run all` or run each cell individually\n",
        "#@markdown - report issues / feature requests here: https://github.com/huggingface/autotrain-advanced/issues\n",
        "\n",
        "import os\n",
        "!pip install -U autotrain-advanced > install_logs.txt"
      ]
    },
    {
      "cell_type": "markdown",
      "source": [
        "Burada eğitim için bazı ayarlamaları yapıyoruz. Bu şekilde kalabilir çok bir değişiklik yapılmasına gerek yok"
      ],
      "metadata": {
        "id": "rucETvksMCBo"
      }
    },
    {
      "cell_type": "code",
      "execution_count": null,
      "metadata": {
        "cellView": "form",
        "id": "A2-_lkBS1WKA"
      },
      "outputs": [],
      "source": [
        "#@markdown ---\n",
        "#@markdown #### Project Config\n",
        "project_name = 'my_dreambooth_project' # @param {type:\"string\"}\n",
        "model_name = 'stabilityai/stable-diffusion-xl-base-1.0' # @param [\"stabilityai/stable-diffusion-xl-base-1.0\", \"runwayml/stable-diffusion-v1-5\", \"stabilityai/stable-diffusion-2-1\", \"stabilityai/stable-diffusion-2-1-base\"]\n",
        "prompt = 'photo of a sks person' # @param {type: \"string\"}\n",
        "\n",
        "#@markdown ---\n",
        "#@markdown #### Push to Hub?\n",
        "#@markdown Use these only if you want to push your trained model to a private repo in your Hugging Face Account\n",
        "#@markdown If you dont use these, the model will be saved in Google Colab and you are required to download it manually.\n",
        "#@markdown Please enter your Hugging Face write token. The trained model will be saved to your Hugging Face account.\n",
        "#@markdown You can find your token here: https://huggingface.co/settings/tokens\n",
        "push_to_hub = False # @param [\"False\", \"True\"] {type:\"raw\"}\n",
        "hf_token = \"hf_XXX\" #@param {type:\"string\"}\n",
        "repo_id = \"username/repo_name\" #@param {type:\"string\"}\n",
        "\n",
        "#@markdown ---\n",
        "#@markdown #### Hyperparameters\n",
        "learning_rate = 1e-4 # @param {type:\"number\"}\n",
        "num_steps = 500 #@param {type:\"number\"}\n",
        "batch_size = 1 # @param {type:\"slider\", min:1, max:32, step:1}\n",
        "gradient_accumulation = 4 # @param {type:\"slider\", min:1, max:32, step:1}\n",
        "resolution = 1024 # @param {type:\"slider\", min:128, max:1024, step:128}\n",
        "use_8bit_adam = False # @param [\"False\", \"True\"] {type:\"raw\"}\n",
        "use_xformers = False # @param [\"False\", \"True\"] {type:\"raw\"}\n",
        "mixed_precision = \"fp16\" # @param [\"fp16\", \"bf16\", \"none\"] {type:\"raw\"}\n",
        "train_text_encoder = False # @param [\"False\", \"True\"] {type:\"raw\"}\n",
        "disable_gradient_checkpointing = False # @param [\"False\", \"True\"] {type:\"raw\"}\n",
        "\n",
        "os.environ[\"PROJECT_NAME\"] = project_name\n",
        "os.environ[\"MODEL_NAME\"] = model_name\n",
        "os.environ[\"PROMPT\"] = prompt\n",
        "os.environ[\"PUSH_TO_HUB\"] = str(push_to_hub)\n",
        "os.environ[\"HF_TOKEN\"] = hf_token\n",
        "os.environ[\"REPO_ID\"] = repo_id\n",
        "os.environ[\"LEARNING_RATE\"] = str(learning_rate)\n",
        "os.environ[\"NUM_STEPS\"] = str(num_steps)\n",
        "os.environ[\"BATCH_SIZE\"] = str(batch_size)\n",
        "os.environ[\"GRADIENT_ACCUMULATION\"] = str(gradient_accumulation)\n",
        "os.environ[\"RESOLUTION\"] = str(resolution)\n",
        "os.environ[\"USE_8BIT_ADAM\"] = str(use_8bit_adam)\n",
        "os.environ[\"USE_XFORMERS\"] = str(use_xformers)\n",
        "os.environ[\"MIXED_PRECISION\"] = str(mixed_precision)\n",
        "os.environ[\"TRAIN_TEXT_ENCODER\"] = str(train_text_encoder)\n",
        "os.environ[\"DISABLE_GRADIENT_CHECKPOINTING\"] = str(disable_gradient_checkpointing)"
      ]
    },
    {
      "cell_type": "markdown",
      "source": [
        "Burada artık modeli eğitiyoruz. Bu işlem biraz uzun sürer. Eğitim sonucunda my_dreambooth_project klasörünün altında pytorch_lora_weights.safetensors adlı bir dosya oluşacak. Bu dosyayı indirebilirsiniz. Böylece artık eğitim işlemine gerek kalmadan bu dosyayı yükleyerek direk görsellerinizi üretebilirsiniz."
      ],
      "metadata": {
        "id": "Yw08pJuAMVCu"
      }
    },
    {
      "cell_type": "code",
      "source": [
        "!autotrain dreambooth \\\n",
        "--model ${MODEL_NAME} \\\n",
        "--project-name ${PROJECT_NAME} \\\n",
        "--image-path images/ \\\n",
        "--prompt \"${PROMPT}\" \\\n",
        "--resolution ${RESOLUTION} \\\n",
        "--batch-size ${BATCH_SIZE} \\\n",
        "--num-steps ${NUM_STEPS} \\\n",
        "--gradient-accumulation ${GRADIENT_ACCUMULATION} \\\n",
        "--lr ${LEARNING_RATE} \\\n",
        "--mixed-precision ${MIXED_PRECISION} \\\n",
        "$( [[ \"$USE_XFORMERS\" == \"True\" ]] && echo \"--xformers\" ) \\\n",
        "$( [[ \"$TRAIN_TEXT_ENCODER\" == \"True\" ]] && echo \"--train-text-encoder\" ) \\\n",
        "$( [[ \"$USE_8BIT_ADAM\" == \"True\" ]] && echo \"--use-8bit-adam\" ) \\\n",
        "$( [[ \"$DISABLE_GRADIENT_CHECKPOINTING\" == \"True\" ]] && echo \"--disable_gradient-checkpointing\" ) \\\n",
        "$( [[ \"$PUSH_TO_HUB\" == \"True\" ]] && echo \"--push-to-hub --token ${HF_TOKEN} --repo-id ${REPO_ID}\" )"
      ],
      "metadata": {
        "id": "4zjT14HtMRtr"
      },
      "execution_count": null,
      "outputs": []
    },
    {
      "cell_type": "markdown",
      "source": [
        "# Önceden Eğitilmiş Modeli Kullanma"
      ],
      "metadata": {
        "id": "RUlfJugZMjQZ"
      }
    },
    {
      "cell_type": "markdown",
      "source": [
        "Eğer daha önce burada bu şekilde bir model eğittiyseniz yeniden yukarıdaki model eğitme adımını yapmanıza gerek yok. Fakat ilk defa yapıyorsanız da alttaki kodu çalıştırmayın. Çünkü yukarıdaki işlemler esnasında zaten buradaki kodun yaptığı işlem yapılıyor."
      ],
      "metadata": {
        "id": "T_nKFUucMk6I"
      }
    },
    {
      "cell_type": "markdown",
      "source": [
        "Burada my_dreambooth_project adlı bir klasör oluşturuyoruz. Bu kod çalıştıktan sonra önceden eğitilmiş ağırlıkları buraya yüklüyoruz.\n"
      ],
      "metadata": {
        "id": "zYlqWO80MkuI"
      }
    },
    {
      "cell_type": "code",
      "source": [
        "import os\n",
        "os.mkdir(\"my_dreambooth_project\")"
      ],
      "metadata": {
        "id": "8A_7QSO7M90P"
      },
      "execution_count": null,
      "outputs": []
    },
    {
      "cell_type": "markdown",
      "source": [
        "# Modeli Tanımlama\n",
        "\n"
      ],
      "metadata": {
        "id": "iZJTUBx2M5s8"
      }
    },
    {
      "cell_type": "markdown",
      "source": [
        "Burada eğittiğimiz ya da yüklediğimiz ağırlıkları kullanarak modeli oluşturyoruz."
      ],
      "metadata": {
        "id": "41FJnOpHNJxZ"
      }
    },
    {
      "cell_type": "code",
      "source": [
        "from diffusers import DiffusionPipeline\n",
        "import torch\n",
        "\n",
        "prj_path = \"my_dreambooth_project\"\n",
        "model = \"stabilityai/stable-diffusion-xl-base-1.0\"\n",
        "pipe = DiffusionPipeline.from_pretrained(\n",
        "     model,\n",
        "     torch_dtype=torch.float16,\n",
        " )\n",
        "pipe.to(\"cuda\")\n",
        "pipe.load_lora_weights(prj_path, weight_name=\"pytorch_lora_weights.safetensors\")"
      ],
      "metadata": {
        "id": "B7atcqQ1NNKs"
      },
      "execution_count": null,
      "outputs": []
    },
    {
      "cell_type": "markdown",
      "source": [
        "# Görsel Oluşturma"
      ],
      "metadata": {
        "id": "sPPTgb9YNQ7-"
      }
    },
    {
      "cell_type": "markdown",
      "source": [
        "Burada nasıl bir görsel oluşturacağımız prompt ile belirtiyoruz. Ben burada birçok prompt örneği koydum. İstediğinizi yorumdan çıkararak deneyebilirsiniz."
      ],
      "metadata": {
        "id": "s9rDcLxSNQ_X"
      }
    },
    {
      "cell_type": "code",
      "source": [
        "prompt = \"photo of a sks person as a doctor, hyper realistic, comic book style color, \"\n",
        "\n",
        "# prompt = \"drawing  of a sks person  pencil drawing on white paper \"\n",
        "# prompt = \"wall painting   of a sks person on wall in New York Streets  , ultra realistic\"\n",
        "# prompt = \"photo of a sks person as  astronaut , ultra realistic, ultra high quality  \"\n",
        "# prompt = \"comic book drawing of a sks person, ultra realistic, comic book style color,  \"\n",
        "# prompt = \"graffiti art  of a sks person, ultra realistic, comic book style color \"\n",
        "# prompt = \"billboard on street of a sks person in New York street  , hyper realistic comic book style style color \"\n",
        "# prompt = \"photo  of a sks person as on picture tableau , colurful, hyper realistic , comic book style color \""
      ],
      "metadata": {
        "id": "9TEC4aZZNWht"
      },
      "execution_count": null,
      "outputs": []
    },
    {
      "cell_type": "markdown",
      "source": [
        "negative_prompt  resimde olmasını istemediğimiz şeyleri belirtiyor."
      ],
      "metadata": {
        "id": "yDWA3QEMVrcB"
      }
    },
    {
      "cell_type": "code",
      "source": [
        "negative_prompt='worst quality, poor details, ugly faces, blury faces,',"
      ],
      "metadata": {
        "id": "SAMBEPxFVqey"
      },
      "execution_count": null,
      "outputs": []
    },
    {
      "cell_type": "markdown",
      "source": [
        "\n",
        "Burada görseli oluşturyoruz. Burada seed'i manuel olarak biz atıyoruz. Her bir seed için farklı bir görsel oluşturuluyor. Seed'i değiştirerek daha iyi sonuçlar elde edebilirsiniz. Burada num_inference_steps resmin kaç aşamada oluşturulacağını belirtiyor. negative_prompt ise resimde olmasını istemediğimiz şeyleri belirtiyor."
      ],
      "metadata": {
        "id": "NNlW74xRNdAb"
      }
    },
    {
      "cell_type": "code",
      "source": [
        "seed = 256\n",
        "generator = torch.Generator(\"cuda\").manual_seed(seed)\n",
        "image = pipe(prompt=prompt,\n",
        "\n",
        "             #num_inference_steps=50,\n",
        "             negative_prompt=negative_prompt,\n",
        "             generator=generator\n",
        "             ).images[0]"
      ],
      "metadata": {
        "colab": {
          "base_uri": "https://localhost:8080/",
          "height": 49,
          "referenced_widgets": [
            "8b18d638b96e4c0db421ae9e98fb634b",
            "d3acbfc2c51844999b3a42a1680d8cf4",
            "14676ccf9a7a4dcfb9c6a93e04ab1795",
            "41e4ae3e302c45f7aef83b21404b482f",
            "ce13970499fe4ef887f0c1d0ecbdf895",
            "b5efb0a7aa3b461aa26c11534206ca82",
            "c5c104ddb68c44feae9830b30e8c0fac",
            "ed2e921107ac4937ad73e79f404e4c4a",
            "56b34e7deffa48728324971066fa7862",
            "bdf883031f264ce8bfd190a49c8e875f",
            "76e3bd0063784d10a83c0cde483069bf"
          ]
        },
        "id": "4vABk6_5NcV1",
        "outputId": "04bf594a-1029-4a49-ee24-21189ac5b8dd"
      },
      "execution_count": null,
      "outputs": [
        {
          "output_type": "display_data",
          "data": {
            "text/plain": [
              "  0%|          | 0/50 [00:00<?, ?it/s]"
            ],
            "application/vnd.jupyter.widget-view+json": {
              "version_major": 2,
              "version_minor": 0,
              "model_id": "8b18d638b96e4c0db421ae9e98fb634b"
            }
          },
          "metadata": {}
        }
      ]
    },
    {
      "cell_type": "markdown",
      "source": [
        "İsterseniz seed'i manuel olarak belirlemek yerine rastgele bir şekilde belirleyebilirsiniz. Bu kodu her çalıştırdığınızda farklı bir görsel üretilecek."
      ],
      "metadata": {
        "id": "wnzj1_GqNiEJ"
      }
    },
    {
      "cell_type": "code",
      "source": [
        "image = pipe(prompt=prompt,\n",
        "             negative_prompt=negative_prompt\n",
        "             ).images[0]"
      ],
      "metadata": {
        "id": "IkpZryIxNcjl"
      },
      "execution_count": null,
      "outputs": []
    },
    {
      "cell_type": "markdown",
      "source": [
        "Bazı prompt ve negative_prompt örnekleri"
      ],
      "metadata": {
        "id": "L0wVoAv8V0Q7"
      }
    },
    {
      "cell_type": "code",
      "source": [
        "prompt = \"steampunk style of a sks person antique, mechanical, brass and copper tones, gears, intricate, detailed\"\n",
        "negative_prompt='deformed, glitch, noisy, low contrast, anime, photorealistic'\n",
        "\n",
        "prompt = \"GTA-style artwork of a sks person  satirical, exaggerated, pop art style, vibrant colors, iconic characters, action-packed  \"\n",
        "negative_prompt='realistic, black and white, low contrast, impressionist, cubist, noisy, blurry, deformed'\n",
        "\n",
        "prompt = \"low-poly style of a sks person low-poly game art, polygon mesh, jagged, blocky, wireframe edges, centered composition\"\n",
        "negative_prompt='noisy, sloppy, messy, grainy, highly detailed, ultra textured, photo'\n",
        "\n",
        "prompt = \"film noir style  photo of a sks person monochrome, high contrast, dramatic shadows, 1940s style, mysterious, cinematic\"\n",
        "negative_prompt='ugly, deformed, noisy, blurry, low contrast, realism, photorealistic, vibrant, colorful'\n",
        "\n",
        "prompt = \"renaissance style of a sks person realistic, perspective, light and shadow, religious or mythological themes, highly detailed\"\n",
        "negative_prompt='ugly, deformed, noisy, blurry, low contrast, modernist, minimalist, abstract'\n",
        "\n",
        "prompt = \"paper quilling art of of a sks person  intricate, delicate, curling, rolling, shaping, coiling, loops, 3D, dimensional, ornamental\"\n",
        "negative_prompt='photo, painting, drawing, 2D, flat, deformed, noisy, blurry'\n",
        "\n",
        "prompt = \"abstract style of a sks person non-representational, colors and shapes, expression of feelings, imaginative, highly detailed\"\n",
        "negative_prompt='realistic, photographic, figurative, concrete'\n",
        "\n",
        "prompt = \"pop Art style of a sks person bright colors, bold outlines, popular culture themes, ironic or kitsch\"\n",
        "negative_prompt='ugly, deformed, noisy, blurry, low contrast, realism, photorealistic, minimalist'\n",
        "\n",
        "prompt = \"analog film photo of a sks person faded film, desaturated, 35mm photo, grainy, vignette, vintage, Kodachrome, Lomography, stained, highly detailed, found footage\"\n",
        "negative_prompt='painting, drawing, illustration, glitch, deformed, mutated, cross-eyed, ugly, disfigured'\n",
        "\n",
        "\n",
        "prompt = \"stained glass style of a sks person, vibrant, beautiful, translucent, intricate, detailed\"\n",
        "negative_prompt='ugly, deformed, noisy, blurry, low contrast, realism, photorealistic'\n",
        "\n",
        "\n"
      ],
      "metadata": {
        "id": "wqkmt7wwV9gJ"
      },
      "execution_count": null,
      "outputs": []
    },
    {
      "cell_type": "markdown",
      "source": [
        "Görseli ekranda gösteriyoruz."
      ],
      "metadata": {
        "id": "_o7dokluNozQ"
      }
    },
    {
      "cell_type": "code",
      "source": [
        "image"
      ],
      "metadata": {
        "id": "rCfB3topNo-i"
      },
      "execution_count": null,
      "outputs": []
    },
    {
      "cell_type": "markdown",
      "source": [
        "Görseli kaydediyoruz."
      ],
      "metadata": {
        "id": "TbpzLF-5NpIR"
      }
    },
    {
      "cell_type": "code",
      "source": [
        "image.save(f\"saved_image.png\")"
      ],
      "metadata": {
        "id": "aJ5lxl7JNpWr"
      },
      "execution_count": null,
      "outputs": []
    }
  ]
}